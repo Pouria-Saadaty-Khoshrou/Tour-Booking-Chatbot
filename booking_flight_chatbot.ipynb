{
 "cells": [
  {
   "cell_type": "markdown",
   "id": "a3ca18d7-52e5-4863-889e-57f0cb224823",
   "metadata": {},
   "source": [
    "## Libraries"
   ]
  },
  {
   "cell_type": "code",
   "execution_count": 5,
   "id": "b350cd6f-267e-4f69-b5ec-05186ad843fa",
   "metadata": {},
   "outputs": [],
   "source": [
    "import os\n",
    "import json\n",
    "import gradio as gr\n",
    "from dotenv import load_dotenv\n",
    "from openai import OpenAI\n",
    "import ollama\n",
    "from IPython.display import display, Markdown\n",
    "import undetected_chromedriver as uc\n",
    "from selenium.webdriver.common.by import By\n",
    "from selenium.webdriver.support.ui import WebDriverWait\n",
    "from selenium.webdriver.support import expected_conditions as EC\n",
    "import time"
   ]
  },
  {
   "cell_type": "code",
   "execution_count": 12,
   "id": "3c5ca51e-5e66-4571-bc0b-de8c6e022553",
   "metadata": {},
   "outputs": [],
   "source": [
    "def find_tours():\n",
    "    # Setup\n",
    "    options = uc.ChromeOptions()\n",
    "    options.add_argument('--no-sandbox')\n",
    "    options.add_argument('--disable-blink-features=AutomationControlled')\n",
    "    # options.add_argument('--headless')  # Turn on if needed\n",
    "    driver = uc.Chrome(options=options)\n",
    "    \n",
    "    driver.get(\"https://flightio.com/\")\n",
    "    time.sleep(5)\n",
    "    driver.execute_script(\"window.scrollTo(0, document.body.scrollHeight);\")\n",
    "    time.sleep(3)\n",
    "    \n",
    "    wait = WebDriverWait(driver, 15)\n",
    "    \n",
    "    # Final result list\n",
    "    flights = []\n",
    "    \n",
    "    try:\n",
    "        route_containers = wait.until(EC.presence_of_all_elements_located(\n",
    "            (By.CSS_SELECTOR, \"div.flex.h-14.w-full.items-center.justify-between.rounded-lg.bg-\\\\[\\\\#F7F8FB\\\\].p-3\")\n",
    "        ))\n",
    "    \n",
    "        price_elements = driver.find_elements(By.CSS_SELECTOR, \"span.text-slate-900.text-base.font-bold\")\n",
    "        price_list = [p.text.strip() for p in price_elements if p.text.strip()]\n",
    "    \n",
    "        for i, route in enumerate(route_containers):\n",
    "            try:\n",
    "                cities = route.find_elements(By.CSS_SELECTOR, \"span.text-sm\")\n",
    "                if len(cities) < 2:\n",
    "                    continue\n",
    "    \n",
    "                to_city = cities[0].text.strip()\n",
    "                from_city = cities[1].text.strip()\n",
    "    \n",
    "                date = route.find_element(By.CSS_SELECTOR, \"span.m\\\\:text-body-xs\\\\(p\\\\).d\\\\:text-xs\").text.strip()\n",
    "    \n",
    "                price = price_list[i] if i < len(price_list) else \"N/A\"\n",
    "    \n",
    "                flights.append({\n",
    "                    \"from\": from_city,\n",
    "                    \"to\": to_city,\n",
    "                    \"date\": date.replace('\\u200c', ' ').strip(),\n",
    "                    \"price\": price\n",
    "                })\n",
    "    \n",
    "            except Exception as e:\n",
    "                print(\"Error in route:\", e)\n",
    "    \n",
    "        driver.quit()\n",
    "    \n",
    "        # Output result\n",
    "        for flight in flights:\n",
    "            print(flight)\n",
    "    \n",
    "    except Exception as outer:\n",
    "        print(\"Page structure issue:\", outer)\n",
    "        driver.quit()\n",
    "    return flights"
   ]
  },
  {
   "cell_type": "code",
   "execution_count": 13,
   "id": "bbd47f14-b5a8-4ffa-b4ef-b26d53d5f08f",
   "metadata": {},
   "outputs": [
    {
     "name": "stdout",
     "output_type": "stream",
     "text": [
      "{'from': 'تهران', 'to': 'استانبول', 'date': 'جمعه 5 اردیبهشت', 'price': '4,635,800'}\n",
      "{'from': 'تهران', 'to': 'دبی', 'date': 'سه شنبه 2 اردیبهشت', 'price': '7,760,000'}\n",
      "{'from': 'تهران', 'to': 'مشهد', 'date': 'چهارشنبه 3 اردیبهشت', 'price': '2,500,000'}\n"
     ]
    }
   ],
   "source": [
    "tours = find_tours()"
   ]
  },
  {
   "cell_type": "code",
   "execution_count": 18,
   "id": "d8ce8b95-12c4-4ad2-b84d-1d2bbeab59bb",
   "metadata": {},
   "outputs": [],
   "source": [
    "def available_tours():\n",
    "    available_tours = \"Available tours:\\n\"\n",
    "    for index, item in enumerate(flights):\n",
    "        if index < len(flights)-1:\n",
    "            available_tours+=f\"{index+1}) from {item['from']} to {item['to']} on {item['date']} and the price is: {item['price']}\\n\"\n",
    "        else:\n",
    "            available_tours+=f\"{index+1}) from {item['from']} to {item['to']} on {item['date']} and the price is: {item['price']}\"\n",
    "    return available_tours"
   ]
  },
  {
   "cell_type": "code",
   "execution_count": 19,
   "id": "66ea8eaa-39e4-4b09-baca-2e022f23425e",
   "metadata": {},
   "outputs": [
    {
     "name": "stdout",
     "output_type": "stream",
     "text": [
      "Available tours:\n",
      "1) from تهران to استانبول on جمعه 5 اردیبهشت and the price is: 4,635,800\n",
      "2) from تهران to مشهد on چهارشنبه 3 اردیبهشت and the price is: 2,500,000\n",
      "3) from تهران to دبی on سه شنبه 2 اردیبهشت and the price is: 7,760,000\n"
     ]
    }
   ],
   "source": [
    "print(available_tours())"
   ]
  },
  {
   "cell_type": "code",
   "execution_count": null,
   "id": "94607666-c92e-482d-84b1-6f1f8c544230",
   "metadata": {},
   "outputs": [],
   "source": []
  }
 ],
 "metadata": {
  "kernelspec": {
   "display_name": "Python 3 (ipykernel)",
   "language": "python",
   "name": "python3"
  },
  "language_info": {
   "codemirror_mode": {
    "name": "ipython",
    "version": 3
   },
   "file_extension": ".py",
   "mimetype": "text/x-python",
   "name": "python",
   "nbconvert_exporter": "python",
   "pygments_lexer": "ipython3",
   "version": "3.11.11"
  }
 },
 "nbformat": 4,
 "nbformat_minor": 5
}
