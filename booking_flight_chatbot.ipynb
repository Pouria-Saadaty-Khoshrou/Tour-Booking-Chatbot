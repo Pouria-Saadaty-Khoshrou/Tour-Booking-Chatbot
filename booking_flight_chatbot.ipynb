{
 "cells": [
  {
   "cell_type": "markdown",
   "id": "a3ca18d7-52e5-4863-889e-57f0cb224823",
   "metadata": {},
   "source": [
    "## Libraries"
   ]
  },
  {
   "cell_type": "code",
   "execution_count": null,
   "id": "b350cd6f-267e-4f69-b5ec-05186ad843fa",
   "metadata": {},
   "outputs": [],
   "source": [
    "import os\n",
    "import json\n",
    "import gradio as gr\n",
    "import requests\n",
    "from bs4 import BeautifulSoup\n",
    "from dotenv import load_dotenv\n",
    "from openai import OpenAI\n",
    "from IPython.display import display, Markdown"
   ]
  },
  {
   "cell_type": "code",
   "execution_count": null,
   "id": "07c9d1bd-8b96-4a6d-b890-5976c0590ed1",
   "metadata": {},
   "outputs": [],
   "source": [
    "headers = {\n",
    " \"User-Agent\": \"Mozilla/5.0 (Windows NT 10.0; Win64; x64) AppleWebKit/537.36 (KHTML, like Gecko) Chrome/117.0.0.0 Safari/537.36\"\n",
    "}\n",
    "\n",
    "def site():\n",
    "    url = 'https://www.skyscanner.it/transport/flights/mila/ika/250728/?adultsv2=1&cabinclass=economy&childrenv2=&inboundaltsenabled=false&outboundaltsenabled=false&preferdirects=false&rtn=0'\n",
    "    response = requests.get(url, headers=headers)\n",
    "    soup = BeautifulSoup(response.content, 'html.parser')\n",
    "    return soup"
   ]
  },
  {
   "cell_type": "code",
   "execution_count": 62,
   "id": "3c5ca51e-5e66-4571-bc0b-de8c6e022553",
   "metadata": {},
   "outputs": [
    {
     "name": "stdout",
     "output_type": "stream",
     "text": [
      "{'from': 'تهران', 'to': 'استانبول', 'date': 'جمعه 5 اردیبهشت', 'price': '4,627,000'}\n",
      "{'from': 'تهران', 'to': 'دبی', 'date': 'سه\\u200cشنبه 2 اردیبهشت', 'price': '8,190,000'}\n",
      "{'from': 'تهران', 'to': 'مشهد', 'date': 'دوشنبه 8 اردیبهشت', 'price': '2,415,000'}\n"
     ]
    }
   ],
   "source": [
    "import undetected_chromedriver as uc\n",
    "from selenium.webdriver.common.by import By\n",
    "from selenium.webdriver.support.ui import WebDriverWait\n",
    "from selenium.webdriver.support import expected_conditions as EC\n",
    "import time\n",
    "\n",
    "# Setup\n",
    "options = uc.ChromeOptions()\n",
    "options.add_argument('--no-sandbox')\n",
    "options.add_argument('--disable-blink-features=AutomationControlled')\n",
    "# options.add_argument('--headless')  # Turn on if needed\n",
    "driver = uc.Chrome(options=options)\n",
    "\n",
    "driver.get(\"https://flightio.com/\")\n",
    "time.sleep(5)\n",
    "driver.execute_script(\"window.scrollTo(0, document.body.scrollHeight);\")\n",
    "time.sleep(3)\n",
    "\n",
    "wait = WebDriverWait(driver, 15)\n",
    "\n",
    "# Final result list\n",
    "flights = []\n",
    "\n",
    "try:\n",
    "    route_containers = wait.until(EC.presence_of_all_elements_located(\n",
    "        (By.CSS_SELECTOR, \"div.flex.h-14.w-full.items-center.justify-between.rounded-lg.bg-\\\\[\\\\#F7F8FB\\\\].p-3\")\n",
    "    ))\n",
    "\n",
    "    price_elements = driver.find_elements(By.CSS_SELECTOR, \"span.text-slate-900.text-base.font-bold\")\n",
    "    price_list = [p.text.strip() for p in price_elements if p.text.strip()]\n",
    "\n",
    "    for i, route in enumerate(route_containers):\n",
    "        try:\n",
    "            cities = route.find_elements(By.CSS_SELECTOR, \"span.text-sm\")\n",
    "            if len(cities) < 2:\n",
    "                continue\n",
    "\n",
    "            to_city = cities[0].text.strip()\n",
    "            from_city = cities[1].text.strip()\n",
    "\n",
    "            date = route.find_element(By.CSS_SELECTOR, \"span.m\\\\:text-body-xs\\\\(p\\\\).d\\\\:text-xs\").text.strip()\n",
    "\n",
    "            price = price_list[i] if i < len(price_list) else \"N/A\"\n",
    "\n",
    "            flights.append({\n",
    "                \"from\": from_city,\n",
    "                \"to\": to_city,\n",
    "                \"date\": date,\n",
    "                \"price\": price\n",
    "            })\n",
    "\n",
    "        except Exception as e:\n",
    "            print(\"Error in route:\", e)\n",
    "\n",
    "    driver.quit()\n",
    "\n",
    "    # Output result\n",
    "    for flight in flights:\n",
    "        print(flight)\n",
    "\n",
    "except Exception as outer:\n",
    "    print(\"Page structure issue:\", outer)\n",
    "    driver.quit()"
   ]
  },
  {
   "cell_type": "code",
   "execution_count": 63,
   "id": "4ba80833-173c-4cc7-b647-b5d1068119cd",
   "metadata": {},
   "outputs": [
    {
     "name": "stdout",
     "output_type": "stream",
     "text": [
      "{'from': 'تهران', 'to': 'مشهد', 'date': 'دوشنبه 8 اردیبهشت', 'price': '2,415,000'}\n",
      "{'from': 'تهران', 'to': 'استانبول', 'date': 'جمعه 5 اردیبهشت', 'price': '4,627,000'}\n",
      "{'from': 'تهران', 'to': 'دبی', 'date': 'سه شنبه 2 اردیبهشت', 'price': '8,190,000'}\n"
     ]
    }
   ],
   "source": [
    "# Step 1: Replace \\u200c with space in 'date' field\n",
    "for flight in flights:\n",
    "    flight['date'] = flight['date'].replace('\\u200c', ' ').strip()\n",
    "\n",
    "# Step 2: Remove duplicates\n",
    "flights = [dict(t) for t in {tuple(flight.items()) for flight in flights}]\n",
    "\n",
    "# Optional: Pretty print\n",
    "for f in flights:\n",
    "    print(f)"
   ]
  },
  {
   "cell_type": "code",
   "execution_count": null,
   "id": "3fc7b7cc-ec7a-4c19-9f83-ba4292eb5363",
   "metadata": {},
   "outputs": [],
   "source": [
    "flights"
   ]
  },
  {
   "cell_type": "code",
   "execution_count": null,
   "id": "d8ce8b95-12c4-4ad2-b84d-1d2bbeab59bb",
   "metadata": {},
   "outputs": [],
   "source": []
  }
 ],
 "metadata": {
  "kernelspec": {
   "display_name": "Python 3 (ipykernel)",
   "language": "python",
   "name": "python3"
  },
  "language_info": {
   "codemirror_mode": {
    "name": "ipython",
    "version": 3
   },
   "file_extension": ".py",
   "mimetype": "text/x-python",
   "name": "python",
   "nbconvert_exporter": "python",
   "pygments_lexer": "ipython3",
   "version": "3.11.11"
  }
 },
 "nbformat": 4,
 "nbformat_minor": 5
}
