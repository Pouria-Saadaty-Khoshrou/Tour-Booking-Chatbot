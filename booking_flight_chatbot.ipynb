{
 "cells": [
  {
   "cell_type": "markdown",
   "id": "a3ca18d7-52e5-4863-889e-57f0cb224823",
   "metadata": {},
   "source": [
    "## Libraries"
   ]
  },
  {
   "cell_type": "code",
   "execution_count": 5,
   "id": "b350cd6f-267e-4f69-b5ec-05186ad843fa",
   "metadata": {},
   "outputs": [],
   "source": [
    "import os\n",
    "import json\n",
    "import gradio as gr\n",
    "from dotenv import load_dotenv\n",
    "from openai import OpenAI\n",
    "import ollama\n",
    "from IPython.display import display, Markdown\n",
    "import undetected_chromedriver as uc\n",
    "from selenium.webdriver.common.by import By\n",
    "from selenium.webdriver.support.ui import WebDriverWait\n",
    "from selenium.webdriver.support import expected_conditions as EC\n",
    "import time"
   ]
  },
  {
   "cell_type": "code",
   "execution_count": 12,
   "id": "3c5ca51e-5e66-4571-bc0b-de8c6e022553",
   "metadata": {},
   "outputs": [],
   "source": [
    "def find_tours():\n",
    "    # Setup\n",
    "    options = uc.ChromeOptions()\n",
    "    options.add_argument('--no-sandbox')\n",
    "    options.add_argument('--disable-blink-features=AutomationControlled')\n",
    "    # options.add_argument('--headless')  # Turn on if needed\n",
    "    driver = uc.Chrome(options=options)\n",
    "    \n",
    "    driver.get(\"https://flightio.com/\")\n",
    "    time.sleep(5)\n",
    "    driver.execute_script(\"window.scrollTo(0, document.body.scrollHeight);\")\n",
    "    time.sleep(3)\n",
    "    \n",
    "    wait = WebDriverWait(driver, 15)\n",
    "    \n",
    "    # Final result list\n",
    "    flights = []\n",
    "    \n",
    "    try:\n",
    "        route_containers = wait.until(EC.presence_of_all_elements_located(\n",
    "            (By.CSS_SELECTOR, \"div.flex.h-14.w-full.items-center.justify-between.rounded-lg.bg-\\\\[\\\\#F7F8FB\\\\].p-3\")\n",
    "        ))\n",
    "    \n",
    "        price_elements = driver.find_elements(By.CSS_SELECTOR, \"span.text-slate-900.text-base.font-bold\")\n",
    "        price_list = [p.text.strip() for p in price_elements if p.text.strip()]\n",
    "    \n",
    "        for i, route in enumerate(route_containers):\n",
    "            try:\n",
    "                cities = route.find_elements(By.CSS_SELECTOR, \"span.text-sm\")\n",
    "                if len(cities) < 2:\n",
    "                    continue\n",
    "    \n",
    "                to_city = cities[0].text.strip()\n",
    "                from_city = cities[1].text.strip()\n",
    "    \n",
    "                date = route.find_element(By.CSS_SELECTOR, \"span.m\\\\:text-body-xs\\\\(p\\\\).d\\\\:text-xs\").text.strip()\n",
    "    \n",
    "                price = price_list[i] if i < len(price_list) else \"N/A\"\n",
    "    \n",
    "                flights.append({\n",
    "                    \"from\": from_city,\n",
    "                    \"to\": to_city,\n",
    "                    \"date\": date.replace('\\u200c', ' ').strip(),\n",
    "                    \"price\": price\n",
    "                })\n",
    "    \n",
    "            except Exception as e:\n",
    "                print(\"Error in route:\", e)\n",
    "    \n",
    "        driver.quit()\n",
    "    \n",
    "        # Output result\n",
    "        for flight in flights:\n",
    "            print(flight)\n",
    "    \n",
    "    except Exception as outer:\n",
    "        print(\"Page structure issue:\", outer)\n",
    "        driver.quit()\n",
    "    return flights"
   ]
  },
  {
   "cell_type": "code",
   "execution_count": 13,
   "id": "bbd47f14-b5a8-4ffa-b4ef-b26d53d5f08f",
   "metadata": {},
   "outputs": [
    {
     "name": "stdout",
     "output_type": "stream",
     "text": [
      "{'from': 'تهران', 'to': 'استانبول', 'date': 'جمعه 5 اردیبهشت', 'price': '4,635,800'}\n",
      "{'from': 'تهران', 'to': 'دبی', 'date': 'سه شنبه 2 اردیبهشت', 'price': '7,760,000'}\n",
      "{'from': 'تهران', 'to': 'مشهد', 'date': 'چهارشنبه 3 اردیبهشت', 'price': '2,500,000'}\n"
     ]
    }
   ],
   "source": [
    "tours = find_tours()"
   ]
  },
  {
   "cell_type": "code",
   "execution_count": 31,
   "id": "d8ce8b95-12c4-4ad2-b84d-1d2bbeab59bb",
   "metadata": {},
   "outputs": [],
   "source": [
    "def available_tours():\n",
    "    flights = find_tours()\n",
    "    available_tours = \"Available tours:\\n\"\n",
    "    for index, item in enumerate(flights):\n",
    "        if index < len(flights)-1:\n",
    "            available_tours+=f\"{index+1}) from {item['from']} to {item['to']} on {item['date']} and the price is: {item['price']}0 IRR\\n\"\n",
    "        else:\n",
    "            available_tours+=f\"{index+1}) from {item['from']} to {item['to']} on {item['date']} and the price is: {item['price']}0 IRR\"\n",
    "\n",
    "    ### Translating using ollama ###\n",
    "    user_message =  'translate this text and give me the text as exact structure as I gave you\\n'+available_tours\n",
    "    messages = [\n",
    "        {'role': 'system', 'content': 'you are a translator that translate persian to english language,\\\n",
    "        and just return the exact text translated in english, adds nothing to it.'},\n",
    "        {'role': 'user', 'content': user_message}\n",
    "    ]\n",
    "    response = ollama.chat(model='llama3.2', \n",
    "                           messages=messages)\n",
    "    \n",
    "    available_tours = response['message']['content']\n",
    "            \n",
    "    return available_tours"
   ]
  },
  {
   "cell_type": "code",
   "execution_count": 32,
   "id": "66ea8eaa-39e4-4b09-baca-2e022f23425e",
   "metadata": {},
   "outputs": [
    {
     "name": "stdout",
     "output_type": "stream",
     "text": [
      "{'from': 'تهران', 'to': 'استانبول', 'date': 'جمعه 5 اردیبهشت', 'price': '4,635,800'}\n",
      "{'from': 'تهران', 'to': 'دبی', 'date': 'سه شنبه 2 اردیبهشت', 'price': '7,760,000'}\n",
      "{'from': 'تهران', 'to': 'مشهد', 'date': 'چهارشنبه 3 اردیبهشت', 'price': '2,500,000'}\n",
      "Here is the translation of the text with the exact same structure as the original:\n",
      "\n",
      "Available tours:\n",
      "1) from Tehran to Istanbul on Friday 5 April and the price is: 4,635,800 IRR\n",
      "2) from Tehran to Dubai on Wednesday 2 April and the price is: 7,760,000 IRR\n",
      "3) from Tehran to Mashhad on Thursday 3 April and the price is: 2,500,000 IRR\n"
     ]
    }
   ],
   "source": [
    "print(available_tours())"
   ]
  },
  {
   "cell_type": "code",
   "execution_count": 33,
   "id": "94607666-c92e-482d-84b1-6f1f8c544230",
   "metadata": {},
   "outputs": [],
   "source": [
    "tour_function = {\n",
    "    \"name\": \"available_tours\",\n",
    "    \"description\": \"Get all available tours at once. Call this whenever you need to know the available tours, for example when a customer asks 'I need a tour, what are your available tours?'\",\n",
    "    \"parameters\": {\n",
    "        \"type\": \"object\",\n",
    "        \"properties\": {},\n",
    "        \"required\": [],\n",
    "        \"additionalProperties\": False\n",
    "    }\n",
    "}"
   ]
  },
  {
   "cell_type": "code",
   "execution_count": null,
   "id": "cc1de858-35a4-4dd9-ae98-871ba6afb07f",
   "metadata": {},
   "outputs": [],
   "source": []
  },
  {
   "cell_type": "code",
   "execution_count": null,
   "id": "43542a22-7b41-4ae2-a37d-0a82a0117e8b",
   "metadata": {},
   "outputs": [],
   "source": []
  }
 ],
 "metadata": {
  "kernelspec": {
   "display_name": "Python 3 (ipykernel)",
   "language": "python",
   "name": "python3"
  },
  "language_info": {
   "codemirror_mode": {
    "name": "ipython",
    "version": 3
   },
   "file_extension": ".py",
   "mimetype": "text/x-python",
   "name": "python",
   "nbconvert_exporter": "python",
   "pygments_lexer": "ipython3",
   "version": "3.11.11"
  }
 },
 "nbformat": 4,
 "nbformat_minor": 5
}
